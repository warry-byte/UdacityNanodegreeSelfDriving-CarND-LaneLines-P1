{
 "cells": [
  {
   "cell_type": "markdown",
   "metadata": {},
   "source": [
    "# Self-Driving Car Engineer Nanodegree\n",
    "\n",
    "\n",
    "## Project: **Finding Lane Lines on the Road** \n",
    "***\n",
    "In this project, you will use the tools you learned about in the lesson to identify lane lines on the road.  You can develop your pipeline on a series of individual images, and later apply the result to a video stream (really just a series of images). Check out the video clip \"raw-lines-example.mp4\" (also contained in this repository) to see what the output should look like after using the helper functions below. \n",
    "\n",
    "Once you have a result that looks roughly like \"raw-lines-example.mp4\", you'll need to get creative and try to average and/or extrapolate the line segments you've detected to map out the full extent of the lane lines.  You can see an example of the result you're going for in the video \"P1_example.mp4\".  Ultimately, you would like to draw just one line for the left side of the lane, and one for the right.\n",
    "\n",
    "In addition to implementing code, there is a brief writeup to complete. The writeup should be completed in a separate file, which can be either a markdown file or a pdf document. There is a [write up template](https://github.com/udacity/CarND-LaneLines-P1/blob/master/writeup_template.md) that can be used to guide the writing process. Completing both the code in the Ipython notebook and the writeup template will cover all of the [rubric points](https://review.udacity.com/#!/rubrics/322/view) for this project.\n",
    "\n",
    "---\n",
    "Let's have a look at our first image called 'test_images/solidWhiteRight.jpg'.  Run the 2 cells below (hit Shift-Enter or the \"play\" button above) to display the image.\n",
    "\n",
    "**Note: If, at any point, you encounter frozen display windows or other confounding issues, you can always start again with a clean slate by going to the \"Kernel\" menu above and selecting \"Restart & Clear Output\".**\n",
    "\n",
    "---"
   ]
  },
  {
   "cell_type": "markdown",
   "metadata": {},
   "source": [
    "**The tools you have are color selection, region of interest selection, grayscaling, Gaussian smoothing, Canny Edge Detection and Hough Tranform line detection.  You  are also free to explore and try other techniques that were not presented in the lesson.  Your goal is piece together a pipeline to detect the line segments in the image, then average/extrapolate them and draw them onto the image for display (as below).  Once you have a working pipeline, try it out on the video stream below.**\n",
    "\n",
    "---\n",
    "\n",
    "<figure>\n",
    " <img src=\"examples/line-segments-example.jpg\" width=\"380\" alt=\"Combined Image\" />\n",
    " <figcaption>\n",
    " <p></p> \n",
    " <p style=\"text-align: center;\"> Your output should look something like this (above) after detecting line segments using the helper functions below </p> \n",
    " </figcaption>\n",
    "</figure>\n",
    " <p></p> \n",
    "<figure>\n",
    " <img src=\"examples/laneLines_thirdPass.jpg\" width=\"380\" alt=\"Combined Image\" />\n",
    " <figcaption>\n",
    " <p></p> \n",
    " <p style=\"text-align: center;\"> Your goal is to connect/average/extrapolate line segments to get output like this</p> \n",
    " </figcaption>\n",
    "</figure>"
   ]
  },
  {
   "cell_type": "markdown",
   "metadata": {},
   "source": [
    "**Run the cell below to import some packages.  If you get an `import error` for a package you've already installed, try changing your kernel (select the Kernel menu above --> Change Kernel).  Still have problems?  Try relaunching Jupyter Notebook from the terminal prompt.  Also, consult the forums for more troubleshooting tips.**  "
   ]
  },
  {
   "cell_type": "markdown",
   "metadata": {},
   "source": [
    "## Import Packages"
   ]
  },
  {
   "cell_type": "code",
   "execution_count": null,
   "metadata": {},
   "outputs": [],
   "source": [
    "#importing some useful packages\n",
    "import matplotlib.pyplot as plt\n",
    "import matplotlib.image as mpimg\n",
    "import numpy as np\n",
    "import cv2\n",
    "import math\n",
    "from ipywidgets import interact, interactive, fixed, interact_manual\n",
    "%matplotlib inline"
   ]
  },
  {
   "cell_type": "markdown",
   "metadata": {},
   "source": [
    "## Read in an Image"
   ]
  },
  {
   "cell_type": "code",
   "execution_count": null,
   "metadata": {},
   "outputs": [],
   "source": [
    "#reading in an image\n",
    "image = mpimg.imread('test_images/challenge.jpg')\n",
    "\n",
    "#printing out some stats and plotting\n",
    "print('This image is:', type(image), 'with dimensions:', image.shape)\n",
    "plt.imshow(image)  # if you wanted to show a single color channel image called 'gray', for example, call as plt.imshow(gray, cmap='gray')"
   ]
  },
  {
   "cell_type": "markdown",
   "metadata": {},
   "source": [
    "## Ideas for Lane Detection Pipeline"
   ]
  },
  {
   "cell_type": "markdown",
   "metadata": {},
   "source": [
    "**Some OpenCV functions (beyond those introduced in the lesson) that might be useful for this project are:**\n",
    "\n",
    "`cv2.inRange()` for color selection  \n",
    "`cv2.fillPoly()` for regions selection  \n",
    "`cv2.line()` to draw lines on an image given endpoints  \n",
    "`cv2.addWeighted()` to coadd / overlay two images  \n",
    "`cv2.cvtColor()` to grayscale or change color  \n",
    "`cv2.imwrite()` to output images to file  \n",
    "`cv2.bitwise_and()` to apply a mask to an image\n",
    "\n",
    "**Check out the OpenCV documentation to learn about these and discover even more awesome functionality!**"
   ]
  },
  {
   "cell_type": "markdown",
   "metadata": {},
   "source": [
    "## Helper Functions"
   ]
  },
  {
   "cell_type": "markdown",
   "metadata": {},
   "source": [
    "Below are some helper functions to help get you started. They should look familiar from the lesson!"
   ]
  },
  {
   "cell_type": "code",
   "execution_count": null,
   "metadata": {},
   "outputs": [],
   "source": [
    "def grayscale(img):\n",
    "    \"\"\"Applies the Grayscale transform\n",
    "    This will return an image with only one color channel\n",
    "    but NOTE: to see the returned image as grayscale\n",
    "    (assuming your grayscaled image is called 'gray')\n",
    "    you should call plt.imshow(gray, cmap='gray')\"\"\"\n",
    "    return cv2.cvtColor(img, cv2.COLOR_RGB2GRAY)\n",
    "    # Or use BGR2GRAY if you read an image with cv2.imread()\n",
    "    # return cv2.cvtColor(img, cv2.COLOR_BGR2GRAY)\n",
    "\n",
    "def canny(img, low_threshold, high_threshold):\n",
    "    \"\"\"Applies the Canny transform\"\"\"\n",
    "    return cv2.Canny(img, low_threshold, high_threshold)\n",
    "\n",
    "def gaussian_blur(img, kernel_size):\n",
    "    \"\"\"Applies a Gaussian Noise kernel\"\"\"\n",
    "    return cv2.GaussianBlur(img, (kernel_size, kernel_size), 0)\n",
    "\n",
    "def get_img_ROI(img, vertices):\n",
    "    \"\"\"\n",
    "    Applies an image mask.\n",
    "\n",
    "    Only keeps the region of the image defined by the polygon\n",
    "    formed from `vertices`. The rest of the image is set to black.\n",
    "    `vertices` should be a numpy array of integer points.\n",
    "    \"\"\"\n",
    "    #defining a blank mask to start with\n",
    "    mask = np.zeros_like(img)\n",
    "\n",
    "    #defining a 3 channel or 1 channel color to fill the mask with depending on the input image\n",
    "    if len(img.shape) > 2:\n",
    "        channel_count = img.shape[2]  # i.e. 3 or 4 depending on your image\n",
    "        ignore_mask_color = (255,) * channel_count\n",
    "    else:\n",
    "        ignore_mask_color = 255\n",
    "\n",
    "    #filling pixels inside the polygon defined by \"vertices\" with the fill color\n",
    "    cv2.fillPoly(mask, vertices, ignore_mask_color)\n",
    "\n",
    "    #returning the image only where mask pixels are nonzero\n",
    "    masked_image = cv2.bitwise_and(img, mask)\n",
    "    return masked_image\n",
    "\n",
    "\n",
    "def draw_lines(img, lines, color=[255, 0, 0], thickness=2):\n",
    "    \"\"\"\n",
    "    NOTE: this is the function you might want to use as a starting point once you want to\n",
    "    average/extrapolate the line segments you detect to map out the full\n",
    "    extent of the lane (going from the result shown in raw-lines-example.mp4\n",
    "    to that shown in P1_example.mp4).\n",
    "\n",
    "    Think about things like separating line segments by their\n",
    "    slope ((y2-y1)/(x2-x1)) to decide which segments are part of the left\n",
    "    line vs. the right line.  Then, you can average the position of each of\n",
    "    the lines and extrapolate to the top and bottom of the lane.\n",
    "\n",
    "    This function draws `lines` with `color` and `thickness`.\n",
    "    Lines are drawn on the image in place (mutates the image).\n",
    "    If you want to make the lines semi-transparent, think about combining\n",
    "    this function with the weighted_img() function below\n",
    "    \"\"\"\n",
    "    for line in lines:\n",
    "        for x1,y1,x2,y2 in line:\n",
    "            cv2.line(img, (x1, y1), (x2, y2), color, thickness)\n",
    "\n",
    "\n",
    "def draw_lane_lines(img, lines, color=[255, 0, 0], thickness=10, slope_threshold_px=0.02, y_min=0, y_max=100):\n",
    "    \"\"\"\n",
    "    Draws and connects lines with a similar slope. It aggregates lines which slope is within +[0,slope_threshold_px]\n",
    "    from the current slope.\n",
    "\n",
    "    This function draws `lines` with `color` and `thickness`.\n",
    "    Lines are drawn on the image in place (mutates the image).\n",
    "\n",
    "    \"\"\"\n",
    "    # Clean up data\n",
    "    y_min = int(y_min)\n",
    "    y_max = int(y_max)\n",
    "    lines = np.squeeze(lines)  # make proper matrix out of lines ndarray\n",
    "\n",
    "    # check if lines is not empty (could indicate a blank frame) AND there is strictly more than 1 line detected\n",
    "    if(lines.item(0) != None and np.size(lines.shape) > 1):\n",
    "\n",
    "        # computing each of the lines slopes\n",
    "        slopes = (lines[:, 3] - lines[:, 1]) / (lines[:, 2] - lines[:, 0])  # deltaY / deltaX\n",
    "\n",
    "        # sort lines by slope - this is mandatory for the following to work\n",
    "        lines_sorted = lines[slopes.argsort()]\n",
    "        slopes.sort()\n",
    "\n",
    "        origins = lines_sorted[:, 3] - np.multiply(lines_sorted[:, 2],\n",
    "                                                   slopes)  # element wise mult to get y2 - m.x2, with m = slope\n",
    "\n",
    "        # Right and left lanes to be detected - format will be x1, y1, x2, y2, slope, origin\n",
    "        left_lane = []\n",
    "        right_lane = []\n",
    "        aggregated_lines = []\n",
    "\n",
    "        search_for_lines = True\n",
    "        next_slope_min_index = 0\n",
    "        # current slope to be aggregated is pointed to by the indexes of the items lower than (min + threshold)\n",
    "        next_slope_min_indexes = np.where(slopes < slopes[next_slope_min_index] + slope_threshold_px)\n",
    "        last_slope = 0\n",
    "\n",
    "        while (search_for_lines):\n",
    "\n",
    "            # find similar lines according to slope threshold\n",
    "            match_indices = (slopes >= slopes[next_slope_min_index]) & (\n",
    "                    slopes < slopes[next_slope_min_index] + slope_threshold_px)\n",
    "\n",
    "            av_slope = np.average(slopes[match_indices])\n",
    "            av_origin = np.average(origins[match_indices])\n",
    "\n",
    "            # solving line eq to find the x's\n",
    "            # horizontal lines\n",
    "            if(av_slope == 0):\n",
    "                x1 = int(np.average(lines_sorted[match_indices, 0]))\n",
    "                x2 = int(np.average(lines_sorted[match_indices, 2]))\n",
    "                y1 = np.min(lines_sorted[match_indices, 1])\n",
    "                y2 = y1 # arbitrary - they area almost equal anyway...\n",
    "            elif(av_slope == np.inf or av_slope == -np.inf):\n",
    "                x1 = 0\n",
    "                x2 = 2000 # any big value\n",
    "                y1 = np.average(lines_sorted[match_indices, 1])\n",
    "                y2 = np.average(lines_sorted[match_indices, 3])\n",
    "            else: # normal case: right and left lanes detected\n",
    "                x1 = int((y_min - av_origin) / av_slope)\n",
    "                x2 = int((y_max - av_origin) / av_slope)\n",
    "                y1 = y_min\n",
    "                y2 = y_max\n",
    "\n",
    "            # draw new line and store\n",
    "            aggregated_lines.append([x1, y1, x2, y2, av_slope, av_origin])\n",
    "\n",
    "            if (next_slope_min_indexes[0][-1] == np.size(slopes) - 1):  # the line we reached is the last one to be aggregated\n",
    "                search_for_lines = False  # this will break the loop after drawing this last line\n",
    "            else:\n",
    "                # move index pointing to the new min in the slope array\n",
    "                next_slope_min_index = next_slope_min_indexes[0][-1] + 1\n",
    "                next_slope_min_indexes = np.where((slopes >= slopes[next_slope_min_index]) & (\n",
    "                        slopes < slopes[next_slope_min_index] + slope_threshold_px))\n",
    "                last_slope = av_slope # storing last aggreg line slope to detect sign change\n",
    "\n",
    "        # finding the left and right lane: as the slopes were sorted, and as the closest lanes to the POV have max. slope, we can simply choose the first line accumulated (most negative slope) and the last one (most positive) as the left / right lanes, resp.\n",
    "        left_lane = aggregated_lines[0]\n",
    "        right_lane = aggregated_lines[-1]\n",
    "        cv2.line(img, (left_lane[0], left_lane[1]), (left_lane[2], left_lane[3]), color, thickness)\n",
    "        cv2.line(img, (right_lane[0], right_lane[1]), (right_lane[2], right_lane[3]), color, thickness)\n",
    "\n",
    "def hough_lines(img, rho, theta, threshold, min_line_len, max_line_gap, y_min = 0, y_max = 100):\n",
    "    \"\"\"\n",
    "    `img` should be the output of a Canny transform.\n",
    "\n",
    "    Returns an image with probabilistic hough lines drawn.\n",
    "    \"\"\"\n",
    "    lines = cv2.HoughLinesP(img, rho, theta, threshold, np.array([]), minLineLength=min_line_len, maxLineGap=max_line_gap)\n",
    "    line_img = np.zeros((img.shape[0], img.shape[1], 3), dtype=np.uint8)\n",
    "    # draw_lines(line_img, lines)\n",
    "    draw_lane_lines(line_img, lines, y_min = y_min, y_max = y_max)\n",
    "    return line_img\n",
    "\n",
    "# Python 3 has support for cool math symbols.\n",
    "\n",
    "def weighted_img(img, initial_img, α=0.8, β=1., γ=0.):\n",
    "    \"\"\"\n",
    "    `img` is the output of the hough_lines(), An image with lines drawn on it.\n",
    "    Should be a blank image (all black) with lines drawn on it.\n",
    "\n",
    "    `initial_img` should be the image before any processing.\n",
    "\n",
    "    The result image is computed as follows:\n",
    "\n",
    "    initial_img * α + img * β + γ\n",
    "    NOTE: initial_img and img must be the same shape!\n",
    "    \"\"\"\n",
    "    return cv2.addWeighted(initial_img, α, img, β, γ)"
   ]
  },
  {
   "cell_type": "markdown",
   "metadata": {},
   "source": [
    "## Test Images\n",
    "\n",
    "Build your pipeline to work on the images in the directory \"test_images\"  \n",
    "**You should make sure your pipeline works well on these images before you try the videos.**"
   ]
  },
  {
   "cell_type": "code",
   "execution_count": null,
   "metadata": {},
   "outputs": [],
   "source": [
    "import os\n",
    "os.listdir(\"test_images/\")"
   ]
  },
  {
   "cell_type": "markdown",
   "metadata": {},
   "source": [
    "## Build a Lane Finding Pipeline"
   ]
  },
  {
   "cell_type": "markdown",
   "metadata": {},
   "source": [
    "Build the pipeline and run your solution on all test_images. Make copies into the `test_images_output` directory, and you can use the images in your writeup report.\n",
    "\n",
    "Try tuning the various parameters, especially the low and high Canny thresholds as well as the Hough lines parameters."
   ]
  },
  {
   "cell_type": "markdown",
   "metadata": {},
   "source": [
    "### Read test image"
   ]
  },
  {
   "cell_type": "code",
   "execution_count": null,
   "metadata": {},
   "outputs": [],
   "source": [
    "src_img = mpimg.imread('test_images/challenge.jpg')\n",
    "gray_img = grayscale(src_img)"
   ]
  },
  {
   "cell_type": "markdown",
   "metadata": {},
   "source": [
    "### Blur image test - testing interact function"
   ]
  },
  {
   "cell_type": "code",
   "execution_count": null,
   "metadata": {
    "scrolled": true
   },
   "outputs": [],
   "source": [
    "@interact(kernel_size = (1,21,2))\n",
    "def blur_image(kernel_size):\n",
    "    res_img = gaussian_blur(gray_img, kernel_size)\n",
    "    plt.imshow(res_img, cmap='gray')\n",
    "    #plt.imshow(gray_image, cmap='gray')"
   ]
  },
  {
   "cell_type": "markdown",
   "metadata": {},
   "source": [
    "### Preparing image for Canny edge detection using the kernel size found"
   ]
  },
  {
   "cell_type": "code",
   "execution_count": 32,
   "metadata": {},
   "outputs": [],
   "source": [
    "kernel_size = 5\n",
    "blur_gray_img = gaussian_blur(gray_img, kernel_size)"
   ]
  },
  {
   "cell_type": "markdown",
   "metadata": {},
   "source": [
    "### Canny edge detection\n",
    "Note that the Canny edge detection must be done before ROI selection, not to create edges on the border of the ROI."
   ]
  },
  {
   "cell_type": "code",
   "execution_count": 33,
   "metadata": {
    "scrolled": true
   },
   "outputs": [
    {
     "data": {
      "application/vnd.jupyter.widget-view+json": {
       "model_id": "ab3e456380664c0a9828538716752e1f",
       "version_major": 2,
       "version_minor": 0
      },
      "text/plain": [
       "interactive(children=(IntSlider(value=50, description='low_threshold', max=150, min=-50), IntSlider(value=150,…"
      ]
     },
     "metadata": {},
     "output_type": "display_data"
    }
   ],
   "source": [
    "@interact(low_threshold = 50, high_threshold = 150) # for the challenge: low = 150, high = 450\n",
    "def canny_edge_detection(low_threshold, high_threshold):\n",
    "    res_img = cv2.Canny(blur_gray_img, low_threshold, high_threshold)\n",
    "    plt.imshow(res_img, cmap='gray')"
   ]
  },
  {
   "cell_type": "code",
   "execution_count": 34,
   "metadata": {},
   "outputs": [],
   "source": [
    "low_threshold = 150\n",
    "high_threshold = 450\n",
    "edge_img = cv2.Canny(blur_gray_img, low_threshold, high_threshold)"
   ]
  },
  {
   "cell_type": "code",
   "execution_count": 35,
   "metadata": {},
   "outputs": [
    {
     "data": {
      "text/plain": [
       "<matplotlib.image.AxesImage at 0x1b8b210ca20>"
      ]
     },
     "execution_count": 35,
     "metadata": {},
     "output_type": "execute_result"
    },
    {
     "data": {
      "image/png": "[encoded data removed]",
      "text/plain": [
       "<Figure size 432x288 with 1 Axes>"
      ]
     },
     "metadata": {
      "needs_background": "light"
     },
     "output_type": "display_data"
    }
   ],
   "source": [
    "plt.imshow(edge_img)"
   ]
  },
  {
   "cell_type": "markdown",
   "metadata": {},
   "source": [
    "### Applying ROI selection\n",
    "The restriction of the image to an ROI located in front of the car will set the maximum detection distance of the road lines. "
   ]
  },
  {
   "cell_type": "code",
   "execution_count": 36,
   "metadata": {
    "scrolled": false
   },
   "outputs": [
    {
     "data": {
      "text/plain": [
       "<matplotlib.image.AxesImage at 0x1b8b21f4dd8>"
      ]
     },
     "execution_count": 36,
     "metadata": {},
     "output_type": "execute_result"
    },
    {
     "data": {
      "image/png": "[encoded data removed]",
      "text/plain": [
       "<Figure size 432x288 with 1 Axes>"
      ]
     },
     "metadata": {
      "needs_background": "light"
     },
     "output_type": "display_data"
    }
   ],
   "source": [
    "BL = (100,                         edge_img.shape[0] - 80) # bottom left\n",
    "BR = (edge_img.shape[1] - 100,     edge_img.shape[0])\n",
    "TR = (int(edge_img.shape[1] / 2 + 100), int(edge_img.shape[0] / 2 + 100))\n",
    "TL = (int(edge_img.shape[1] / 2 - 100), int(edge_img.shape[0] / 2 + 100))\n",
    "ROI_vertices = np.array([[BL, BR, TR, TL]])\n",
    "masked_img = get_img_ROI(edge_img, ROI_vertices)\n",
    "# At this point, we will ignore the small lines\n",
    "# Those will be filtered out later\n",
    "\n",
    "# test result\n",
    "plt.imshow(masked_img, cmap = 'gray')"
   ]
  },
  {
   "cell_type": "markdown",
   "metadata": {},
   "source": [
    "### Line detection using probabilistic Hough transform"
   ]
  },
  {
   "cell_type": "code",
   "execution_count": 37,
   "metadata": {
    "scrolled": true
   },
   "outputs": [
    {
     "data": {
      "application/vnd.jupyter.widget-view+json": {
       "model_id": "80b45d88572c46cc875d6b5c7f90b4c5",
       "version_major": 2,
       "version_minor": 0
      },
      "text/plain": [
       "interactive(children=(IntSlider(value=30, description='hough_vote_threshold', max=90, min=-30), IntSlider(valu…"
      ]
     },
     "metadata": {},
     "output_type": "display_data"
    }
   ],
   "source": [
    "# Define the Hough transform parameters\n",
    "rho_reso_px = 1 # distance resolution in pixels of the Hough grid\n",
    "theta_reso_rad = np.pi/180 # angular resolution in radians of the Hough grid\n",
    "\n",
    "@interact(hough_vote_threshold = 30, min_line_length = 10, max_line_gap = 100) \n",
    "def line_detection(hough_vote_threshold, min_line_length, max_line_gap):\n",
    "    line_img = hough_lines(masked_img, rho_reso_px, theta_reso_rad, hough_vote_threshold, min_line_length, max_line_gap, y_min = TR[1], y_max = BR[1])\n",
    "    plt.imshow(line_img)"
   ]
  },
  {
   "cell_type": "markdown",
   "metadata": {},
   "source": [
    "Observations: \n",
    "* The minimum line length must be increased to filter out small lines. \n",
    "* The maximum line gap must be as high as possible to connect dashed lines "
   ]
  },
  {
   "cell_type": "markdown",
   "metadata": {},
   "source": [
    "Values found for the test_images/solidWhiteCurve.jpg image: \n",
    "* hough_vote_threshold = 30\n",
    "* min_line_length = 10\n",
    "* max_line_gap = 100\n",
    "Values found after confronting again to solidYellowCurve.jpg:\n",
    "* hough_vote_threshold = 30\n",
    "* min_line_length = 30 --> remove small bits of lane on the right\n",
    "* max_line_gap = 130 --> increase resulting line length by detecting contiguous segments"
   ]
  },
  {
   "cell_type": "code",
   "execution_count": 38,
   "metadata": {},
   "outputs": [],
   "source": [
    "# Produce line image with the final parameters\n",
    "hough_vote_threshold = 30\n",
    "min_line_length = 10\n",
    "max_line_gap = 100\n",
    "\n",
    "aggreg_line_img = hough_lines(masked_img,\n",
    "                              rho_reso_px,\n",
    "                              theta_reso_rad,\n",
    "                              hough_vote_threshold,\n",
    "                              min_line_length,\n",
    "                              max_line_gap,\n",
    "                              y_min = TL[1],\n",
    "                              y_max = src_img.shape[0])"
   ]
  },
  {
   "cell_type": "markdown",
   "metadata": {},
   "source": [
    "## Draw the lines on the edge image"
   ]
  },
  {
   "cell_type": "code",
   "execution_count": 39,
   "metadata": {},
   "outputs": [
    {
     "data": {
      "image/png": "[encoded data removed]",
      "text/plain": [
       "<Figure size 432x288 with 1 Axes>"
      ]
     },
     "metadata": {
      "needs_background": "light"
     },
     "output_type": "display_data"
    }
   ],
   "source": [
    "final_img = weighted_img(aggreg_line_img, src_img)\n",
    "plt.imshow(final_img)\n",
    "plt.show()"
   ]
  },
  {
   "cell_type": "markdown",
   "metadata": {},
   "source": [
    "## Test on Videos\n",
    "\n",
    "You know what's cooler than drawing lanes over images? Drawing lanes over video!\n",
    "\n",
    "We can test our solution on two provided videos:\n",
    "\n",
    "`solidWhiteRight.mp4`\n",
    "\n",
    "`solidYellowLeft.mp4`\n",
    "\n",
    "**Note: if you get an import error when you run the next cell, try changing your kernel (select the Kernel menu above --> Change Kernel). Still have problems? Try relaunching Jupyter Notebook from the terminal prompt. Also, consult the forums for more troubleshooting tips.**\n",
    "\n",
    "**If you get an error that looks like this:**\n",
    "```\n",
    "NeedDownloadError: Need ffmpeg exe. \n",
    "You can download it by calling: \n",
    "imageio.plugins.ffmpeg.download()\n",
    "```\n",
    "**Follow the instructions in the error message and check out [this forum post](https://discussions.udacity.com/t/project-error-of-test-on-videos/274082) for more troubleshooting tips across operating systems.**"
   ]
  },
  {
   "cell_type": "code",
   "execution_count": 40,
   "metadata": {},
   "outputs": [],
   "source": [
    "# Import everything needed to edit/save/watch video clips\n",
    "from moviepy.editor import VideoFileClip\n",
    "from IPython.display import HTML"
   ]
  },
  {
   "cell_type": "code",
   "execution_count": 48,
   "metadata": {},
   "outputs": [],
   "source": [
    "def process_image(image):\n",
    "    # NOTE: The output you return should be a color image (3 channel) for processing video below\n",
    "    gray_img = grayscale(image)\n",
    "\n",
    "    kernel_size = 5\n",
    "    blur_gray_img = gaussian_blur(gray_img, kernel_size)\n",
    "\n",
    "    #     low_threshold = 50\n",
    "    #     high_threshold = 150\n",
    "    low_threshold = 100\n",
    "    high_threshold = 400\n",
    "    edge_img = cv2.Canny(blur_gray_img, low_threshold, high_threshold)\n",
    "\n",
    "    BL = (100,                         edge_img.shape[0] - 80) # bottom left\n",
    "    BR = (edge_img.shape[1] - 100,     edge_img.shape[0])\n",
    "    TR = (int(edge_img.shape[1] / 2 + 100), int(edge_img.shape[0] / 2 + 100))\n",
    "    TL = (int(edge_img.shape[1] / 2 - 100), int(edge_img.shape[0] / 2 + 100))\n",
    "    ROI_vertices = np.array([[BL, BR, TR, TL]])\n",
    "    masked_img = get_img_ROI(edge_img, ROI_vertices)\n",
    "    # At this point, we will ignore the small lines\n",
    "    # Those will be filtered out later\n",
    "\n",
    "    # debug\n",
    "    # plt.imshow(masked_img)\n",
    "\n",
    "    # Define the Hough transform parameters\n",
    "    rho_reso_px = 1 # distance resolution in pixels of the Hough grid\n",
    "    theta_reso_rad = np.pi/180 # angular resolution in radians of the Hough grid\n",
    "\n",
    "    # Produce line image with the final parameters\n",
    "    hough_vote_threshold = 30\n",
    "    min_line_length = 30\n",
    "    max_line_gap = 110\n",
    "\n",
    "    aggreg_line_img = hough_lines(masked_img,\n",
    "                                  rho_reso_px,\n",
    "                                  theta_reso_rad,\n",
    "                                  hough_vote_threshold,\n",
    "                                  min_line_length,\n",
    "                                  max_line_gap,\n",
    "                                  y_min = TL[1],\n",
    "                                  y_max = image.shape[0]-1)\n",
    "\n",
    "    # Create a \"color\" binary image to combine with line image\n",
    "    final_img = weighted_img(aggreg_line_img, image)\n",
    "\n",
    "    return final_img"
   ]
  },
  {
   "cell_type": "markdown",
   "metadata": {},
   "source": [
    "Let's try the one with the solid white lane on the right first ..."
   ]
  },
  {
   "cell_type": "code",
   "execution_count": 49,
   "metadata": {},
   "outputs": [
    {
     "name": "stderr",
     "output_type": "stream",
     "text": [
      "t:  62%|███████████████████████████████████████▋                        | 137/221 [25:53:10<00:01, 43.63it/s, now=None]\n",
      "t:   0%|                                                                             | 0/221 [00:00<?, ?it/s, now=None]\u001b[A\n",
      "t:   1%|▌                                                                    | 2/221 [00:00<00:11, 18.74it/s, now=None]\u001b[A"
     ]
    },
    {
     "name": "stdout",
     "output_type": "stream",
     "text": [
      "Moviepy - Building video test_videos_output/solidWhiteRight.mp4.\n",
      "Moviepy - Writing video test_videos_output/solidWhiteRight.mp4\n",
      "\n"
     ]
    },
    {
     "name": "stderr",
     "output_type": "stream",
     "text": [
      "\n",
      "t:   4%|██▊                                                                  | 9/221 [00:00<00:08, 24.00it/s, now=None]\u001b[A\n",
      "t:   7%|████▉                                                               | 16/221 [00:00<00:06, 29.89it/s, now=None]\u001b[A\n",
      "t:  10%|███████                                                             | 23/221 [00:00<00:05, 36.08it/s, now=None]\u001b[A\n",
      "t:  14%|█████████▌                                                          | 31/221 [00:00<00:04, 43.18it/s, now=None]\u001b[A\n",
      "t:  17%|███████████▋                                                        | 38/221 [00:00<00:03, 48.76it/s, now=None]\u001b[A\n",
      "t:  20%|█████████████▊                                                      | 45/221 [00:00<00:03, 51.75it/s, now=None]\u001b[A\n",
      "t:  24%|████████████████                                                    | 52/221 [00:00<00:03, 43.90it/s, now=None]\u001b[A\n",
      "t:  26%|█████████████████▊                                                  | 58/221 [00:01<00:04, 39.31it/s, now=None]\u001b[A\n",
      "t:  29%|███████████████████▍                                                | 63/221 [00:01<00:03, 39.72it/s, now=None]\u001b[A\n",
      "t:  31%|████████████████████▉                                               | 68/221 [00:01<00:03, 40.18it/s, now=None]\u001b[A\n",
      "t:  33%|██████████████████████▍                                             | 73/221 [00:01<00:03, 37.75it/s, now=None]\u001b[A\n",
      "t:  35%|████████████████████████                                            | 78/221 [00:01<00:03, 36.23it/s, now=None]\u001b[A\n",
      "t:  37%|█████████████████████████▏                                          | 82/221 [00:01<00:04, 33.45it/s, now=None]\u001b[A\n",
      "t:  39%|██████████████████████████▊                                         | 87/221 [00:01<00:03, 34.03it/s, now=None]\u001b[A\n",
      "t:  42%|████████████████████████████▎                                       | 92/221 [00:02<00:03, 37.57it/s, now=None]\u001b[A\n",
      "t:  43%|█████████████████████████████▌                                      | 96/221 [00:02<00:03, 35.65it/s, now=None]\u001b[A\n",
      "t:  46%|██████████████████████████████▌                                    | 101/221 [00:02<00:03, 35.37it/s, now=None]\u001b[A\n",
      "t:  48%|████████████████████████████████▏                                  | 106/221 [00:02<00:02, 38.53it/s, now=None]\u001b[A\n",
      "t:  50%|█████████████████████████████████▋                                 | 111/221 [00:02<00:02, 36.73it/s, now=None]\u001b[A\n",
      "t:  52%|███████████████████████████████████▏                               | 116/221 [00:02<00:02, 39.84it/s, now=None]\u001b[A\n",
      "t:  55%|████████████████████████████████████▉                              | 122/221 [00:02<00:02, 39.24it/s, now=None]\u001b[A\n",
      "t:  57%|██████████████████████████████████████▌                            | 127/221 [00:02<00:02, 39.71it/s, now=None]\u001b[A\n",
      "t:  60%|████████████████████████████████████████                           | 132/221 [00:03<00:02, 40.19it/s, now=None]\u001b[A\n",
      "t:  62%|█████████████████████████████████████████▌                         | 137/221 [00:03<00:02, 39.57it/s, now=None]\u001b[A\n",
      "t:  64%|███████████████████████████████████████████                        | 142/221 [00:03<00:01, 40.10it/s, now=None]\u001b[A\n",
      "t:  67%|████████████████████████████████████████████▌                      | 147/221 [00:03<00:01, 37.70it/s, now=None]\u001b[A\n",
      "t:  68%|█████████████████████████████████████████████▊                     | 151/221 [00:03<00:02, 33.45it/s, now=None]\u001b[A\n",
      "t:  71%|███████████████████████████████████████████████▎                   | 156/221 [00:03<00:01, 37.05it/s, now=None]\u001b[A\n",
      "t:  72%|████████████████████████████████████████████████▌                  | 160/221 [00:03<00:01, 34.83it/s, now=None]\u001b[A\n",
      "t:  75%|██████████████████████████████████████████████████                 | 165/221 [00:04<00:01, 33.36it/s, now=None]\u001b[A\n",
      "t:  77%|███████████████████████████████████████████████████▌               | 170/221 [00:04<00:01, 37.04it/s, now=None]\u001b[A\n",
      "t:  79%|████████████████████████████████████████████████████▊              | 174/221 [00:04<00:01, 32.75it/s, now=None]\u001b[A\n",
      "t:  81%|██████████████████████████████████████████████████████▌            | 180/221 [00:04<00:01, 35.68it/s, now=None]\u001b[A\n",
      "t:  83%|███████████████████████████████████████████████████████▊           | 184/221 [00:04<00:01, 33.94it/s, now=None]\u001b[A\n",
      "t:  85%|████████████████████████████████████████████████████████▉          | 188/221 [00:04<00:00, 34.56it/s, now=None]\u001b[A\n",
      "t:  87%|██████████████████████████████████████████████████████████▏        | 192/221 [00:04<00:00, 34.10it/s, now=None]\u001b[A\n",
      "t:  89%|███████████████████████████████████████████████████████████▋       | 197/221 [00:04<00:00, 35.96it/s, now=None]\u001b[A\n",
      "t:  91%|████████████████████████████████████████████████████████████▉      | 201/221 [00:05<00:00, 36.01it/s, now=None]\u001b[A\n",
      "t:  93%|██████████████████████████████████████████████████████████████▏    | 205/221 [00:05<00:00, 37.04it/s, now=None]\u001b[A\n",
      "t:  95%|███████████████████████████████████████████████████████████████▎   | 209/221 [00:05<00:00, 36.76it/s, now=None]\u001b[A\n",
      "t:  97%|████████████████████████████████████████████████████████████████▉  | 214/221 [00:05<00:00, 39.10it/s, now=None]\u001b[A\n",
      "t:  99%|██████████████████████████████████████████████████████████████████ | 218/221 [00:05<00:00, 39.05it/s, now=None]\u001b[A\n",
      "t:  62%|███████████████████████████████████████▋                        | 137/221 [25:53:17<00:01, 43.63it/s, now=None]\u001b[A"
     ]
    },
    {
     "name": "stdout",
     "output_type": "stream",
     "text": [
      "Moviepy - Done !\n",
      "Moviepy - video ready test_videos_output/solidWhiteRight.mp4\n",
      "Wall time: 6.28 s\n"
     ]
    }
   ],
   "source": [
    "white_output = 'test_videos_output/solidWhiteRight.mp4'\n",
    "## To speed up the testing process you may want to try your pipeline on a shorter subclip of the video\n",
    "## To do so add .subclip(start_second,end_second) to the end of the line below\n",
    "## Where start_second and end_second are integer values representing the start and end of the subclip\n",
    "## You may also uncomment the following line for a subclip of the first 5 seconds\n",
    "##clip1 = VideoFileClip(\"test_videos/solidWhiteRight.mp4\").subclip(0,5)\n",
    "clip1 = VideoFileClip(\"test_videos/solidWhiteRight.mp4\")\n",
    "white_clip = clip1.fl_image(process_image) #NOTE: this function expects color images!!\n",
    "%time white_clip.write_videofile(white_output, audio=False)"
   ]
  },
  {
   "cell_type": "markdown",
   "metadata": {},
   "source": [
    "Play the video inline, or if you prefer find the video in your filesystem (should be in the same directory) and play it in your video player of choice."
   ]
  },
  {
   "cell_type": "code",
   "execution_count": 50,
   "metadata": {},
   "outputs": [
    {
     "data": {
      "text/html": [
       "\n",
       "<video width=\"960\" height=\"540\" controls>\n",
       "  <source src=\"test_videos_output/solidWhiteRight.mp4\">\n",
       "</video>\n"
      ],
      "text/plain": [
       "<IPython.core.display.HTML object>"
      ]
     },
     "execution_count": 50,
     "metadata": {},
     "output_type": "execute_result"
    }
   ],
   "source": [
    "HTML(\"\"\"\n",
    "<video width=\"960\" height=\"540\" controls>\n",
    "  <source src=\"{0}\">\n",
    "</video>\n",
    "\"\"\".format(white_output))"
   ]
  },
  {
   "cell_type": "markdown",
   "metadata": {},
   "source": [
    "## Improve the draw_lines() function\n",
    "\n",
    "**At this point, if you were successful with making the pipeline and tuning parameters, you probably have the Hough line segments drawn onto the road, but what about identifying the full extent of the lane and marking it clearly as in the example video (P1_example.mp4)?  Think about defining a line to run the full length of the visible lane based on the line segments you identified with the Hough Transform. As mentioned previously, try to average and/or extrapolate the line segments you've detected to map out the full extent of the lane lines. You can see an example of the result you're going for in the video \"P1_example.mp4\".**\n",
    "\n",
    "**Go back and modify your draw_lines function accordingly and try re-running your pipeline. The new output should draw a single, solid line over the left lane line and a single, solid line over the right lane line. The lines should start from the bottom of the image and extend out to the top of the region of interest.**"
   ]
  },
  {
   "cell_type": "markdown",
   "metadata": {},
   "source": [
    "Now for the one with the solid yellow lane on the left. This one's more tricky!"
   ]
  },
  {
   "cell_type": "code",
   "execution_count": 54,
   "metadata": {
    "scrolled": false
   },
   "outputs": [
    {
     "name": "stderr",
     "output_type": "stream",
     "text": [
      "t:  62%|███████████████████████████████████████▋                        | 137/221 [25:54:04<00:01, 43.63it/s, now=None]\n",
      "t:   0%|                                                                             | 0/681 [00:00<?, ?it/s, now=None]\u001b[A\n",
      "t:   0%|▏                                                                    | 2/681 [00:00<00:39, 17.26it/s, now=None]\u001b[A"
     ]
    },
    {
     "name": "stdout",
     "output_type": "stream",
     "text": [
      "Moviepy - Building video test_videos_output/solidYellowLeft.mp4.\n",
      "Moviepy - Writing video test_videos_output/solidYellowLeft.mp4\n",
      "\n"
     ]
    },
    {
     "name": "stderr",
     "output_type": "stream",
     "text": [
      "\n",
      "t:   1%|▉                                                                    | 9/681 [00:00<00:30, 22.30it/s, now=None]\u001b[A\n",
      "t:   2%|█▋                                                                  | 17/681 [00:00<00:23, 28.45it/s, now=None]\u001b[A\n",
      "t:   4%|██▍                                                                 | 25/681 [00:00<00:18, 35.25it/s, now=None]\u001b[A\n",
      "t:   5%|███▎                                                                | 33/681 [00:00<00:15, 42.34it/s, now=None]\u001b[A\n",
      "t:   6%|████▏                                                               | 42/681 [00:00<00:12, 50.32it/s, now=None]\u001b[A\n",
      "t:   7%|████▉                                                               | 49/681 [00:00<00:14, 43.15it/s, now=None]\u001b[A\n",
      "t:   8%|█████▍                                                              | 55/681 [00:00<00:15, 41.06it/s, now=None]\u001b[A\n",
      "t:   9%|██████                                                              | 61/681 [00:01<00:15, 40.48it/s, now=None]\u001b[A\n",
      "t:  10%|██████▌                                                             | 66/681 [00:01<00:16, 36.43it/s, now=None]\u001b[A\n",
      "t:  10%|███████                                                             | 71/681 [00:01<00:17, 35.18it/s, now=None]\u001b[A\n",
      "t:  11%|███████▌                                                            | 76/681 [00:01<00:15, 38.51it/s, now=None]\u001b[A\n",
      "t:  12%|████████                                                            | 81/681 [00:01<00:17, 35.15it/s, now=None]\u001b[A\n",
      "t:  13%|████████▌                                                           | 86/681 [00:01<00:17, 33.80it/s, now=None]\u001b[A\n",
      "t:  14%|█████████▏                                                          | 92/681 [00:02<00:15, 38.08it/s, now=None]\u001b[A\n",
      "t:  14%|█████████▋                                                          | 97/681 [00:02<00:16, 34.87it/s, now=None]\u001b[A\n",
      "t:  15%|█████████▉                                                         | 101/681 [00:02<00:16, 34.31it/s, now=None]\u001b[A\n",
      "t:  16%|██████████▍                                                        | 106/681 [00:02<00:16, 33.94it/s, now=None]\u001b[A\n",
      "t:  16%|██████████▊                                                        | 110/681 [00:02<00:16, 35.48it/s, now=None]\u001b[A\n",
      "t:  17%|███████████▏                                                       | 114/681 [00:02<00:17, 32.20it/s, now=None]\u001b[A\n",
      "t:  17%|███████████▋                                                       | 119/681 [00:02<00:15, 35.99it/s, now=None]\u001b[A\n",
      "t:  18%|████████████                                                       | 123/681 [00:02<00:16, 33.30it/s, now=None]\u001b[A\n",
      "t:  19%|████████████▍                                                      | 127/681 [00:03<00:15, 34.99it/s, now=None]\u001b[A\n",
      "t:  19%|████████████▉                                                      | 131/681 [00:03<00:18, 30.44it/s, now=None]\u001b[A\n",
      "t:  20%|█████████████▎                                                     | 135/681 [00:03<00:17, 31.94it/s, now=None]\u001b[A\n",
      "t:  20%|█████████████▋                                                     | 139/681 [00:03<00:16, 32.43it/s, now=None]\u001b[A\n",
      "t:  21%|██████████████                                                     | 143/681 [00:03<00:17, 31.63it/s, now=None]\u001b[A\n",
      "t:  22%|██████████████▍                                                    | 147/681 [00:03<00:16, 31.42it/s, now=None]\u001b[A\n",
      "t:  22%|██████████████▊                                                    | 151/681 [00:03<00:17, 30.29it/s, now=None]\u001b[A\n",
      "t:  23%|███████████████▏                                                   | 155/681 [00:03<00:16, 32.61it/s, now=None]\u001b[A\n",
      "t:  23%|███████████████▋                                                   | 159/681 [00:04<00:17, 30.49it/s, now=None]\u001b[A\n",
      "t:  24%|████████████████▏                                                  | 164/681 [00:04<00:17, 30.09it/s, now=None]\u001b[A\n",
      "t:  25%|████████████████▋                                                  | 169/681 [00:04<00:15, 32.88it/s, now=None]\u001b[A\n",
      "t:  25%|█████████████████                                                  | 173/681 [00:04<00:16, 31.23it/s, now=None]\u001b[A\n",
      "t:  26%|█████████████████▍                                                 | 177/681 [00:04<00:15, 33.37it/s, now=None]\u001b[A\n",
      "t:  27%|█████████████████▊                                                 | 181/681 [00:04<00:15, 32.47it/s, now=None]\u001b[A\n",
      "t:  27%|██████████████████▎                                                | 186/681 [00:04<00:13, 35.60it/s, now=None]\u001b[A\n",
      "t:  28%|██████████████████▋                                                | 190/681 [00:05<00:14, 32.91it/s, now=None]\u001b[A\n",
      "t:  28%|███████████████████                                                | 194/681 [00:05<00:15, 30.67it/s, now=None]\u001b[A\n",
      "t:  29%|███████████████████▌                                               | 199/681 [00:05<00:14, 33.92it/s, now=None]\u001b[A\n",
      "t:  30%|███████████████████▉                                               | 203/681 [00:05<00:15, 31.27it/s, now=None]\u001b[A\n",
      "t:  30%|████████████████████▎                                              | 207/681 [00:05<00:14, 31.79it/s, now=None]\u001b[A\n",
      "t:  31%|████████████████████▊                                              | 211/681 [00:05<00:14, 32.17it/s, now=None]\u001b[A\n",
      "t:  32%|█████████████████████▏                                             | 215/681 [00:05<00:14, 31.66it/s, now=None]\u001b[A\n",
      "t:  32%|█████████████████████▌                                             | 219/681 [00:05<00:14, 32.08it/s, now=None]\u001b[A\n",
      "t:  33%|█████████████████████▉                                             | 223/681 [00:06<00:14, 30.83it/s, now=None]\u001b[A\n",
      "t:  33%|██████████████████████▍                                            | 228/681 [00:06<00:13, 33.38it/s, now=None]\u001b[A\n",
      "t:  34%|██████████████████████▊                                            | 232/681 [00:06<00:13, 34.15it/s, now=None]\u001b[A\n",
      "t:  35%|███████████████████████▏                                           | 236/681 [00:06<00:12, 34.71it/s, now=None]\u001b[A\n",
      "t:  35%|███████████████████████▌                                           | 240/681 [00:06<00:12, 35.11it/s, now=None]\u001b[A\n",
      "t:  36%|████████████████████████                                           | 244/681 [00:06<00:12, 35.40it/s, now=None]\u001b[A\n",
      "t:  36%|████████████████████████▍                                          | 248/681 [00:06<00:12, 35.58it/s, now=None]\u001b[A\n",
      "t:  37%|████████████████████████▊                                          | 252/681 [00:06<00:13, 31.48it/s, now=None]\u001b[A\n",
      "t:  38%|█████████████████████████▏                                         | 256/681 [00:07<00:12, 33.56it/s, now=None]\u001b[A\n",
      "t:  38%|█████████████████████████▌                                         | 260/681 [00:07<00:13, 31.06it/s, now=None]\u001b[A\n",
      "t:  39%|█████████████████████████▉                                         | 264/681 [00:07<00:13, 30.90it/s, now=None]\u001b[A\n",
      "t:  39%|██████████████████████████▎                                        | 268/681 [00:07<00:12, 33.10it/s, now=None]\u001b[A\n",
      "t:  40%|██████████████████████████▊                                        | 272/681 [00:07<00:14, 28.74it/s, now=None]\u001b[A\n",
      "t:  41%|███████████████████████████▏                                       | 276/681 [00:07<00:12, 31.33it/s, now=None]\u001b[A\n",
      "t:  41%|███████████████████████████▌                                       | 280/681 [00:07<00:13, 29.17it/s, now=None]\u001b[A\n",
      "t:  42%|████████████████████████████                                       | 285/681 [00:07<00:11, 33.15it/s, now=None]\u001b[A\n",
      "t:  42%|████████████████████████████▍                                      | 289/681 [00:08<00:11, 33.12it/s, now=None]\u001b[A\n",
      "t:  43%|████████████████████████████▊                                      | 293/681 [00:08<00:11, 33.11it/s, now=None]\u001b[A\n",
      "t:  44%|█████████████████████████████▏                                     | 297/681 [00:08<00:12, 31.65it/s, now=None]\u001b[A\n",
      "t:  44%|█████████████████████████████▌                                     | 301/681 [00:08<00:12, 29.89it/s, now=None]\u001b[A\n",
      "t:  45%|██████████████████████████████                                     | 305/681 [00:08<00:11, 31.51it/s, now=None]\u001b[A\n",
      "t:  45%|██████████████████████████████▍                                    | 309/681 [00:08<00:11, 31.81it/s, now=None]\u001b[A\n",
      "t:  46%|██████████████████████████████▊                                    | 313/681 [00:08<00:11, 32.98it/s, now=None]\u001b[A\n",
      "t:  47%|███████████████████████████████▏                                   | 317/681 [00:08<00:10, 34.73it/s, now=None]\u001b[A\n",
      "t:  47%|███████████████████████████████▌                                   | 321/681 [00:09<00:11, 31.72it/s, now=None]\u001b[A\n",
      "t:  48%|████████████████████████████████                                   | 326/681 [00:09<00:10, 32.76it/s, now=None]\u001b[A\n",
      "t:  48%|████████████████████████████████▍                                  | 330/681 [00:09<00:10, 33.68it/s, now=None]\u001b[A\n",
      "t:  49%|████████████████████████████████▊                                  | 334/681 [00:09<00:12, 28.44it/s, now=None]\u001b[A\n",
      "t:  50%|█████████████████████████████████▍                                 | 340/681 [00:09<00:10, 31.58it/s, now=None]\u001b[A\n",
      "t:  51%|█████████████████████████████████▉                                 | 345/681 [00:09<00:09, 33.99it/s, now=None]\u001b[A\n",
      "t:  51%|██████████████████████████████████▎                                | 349/681 [00:09<00:10, 32.07it/s, now=None]\u001b[A\n",
      "t:  52%|██████████████████████████████████▋                                | 353/681 [00:10<00:09, 33.34it/s, now=None]\u001b[A\n",
      "t:  52%|███████████████████████████████████                                | 357/681 [00:10<00:10, 30.08it/s, now=None]\u001b[A\n",
      "t:  53%|███████████████████████████████████▌                               | 362/681 [00:10<00:09, 33.41it/s, now=None]\u001b[A\n",
      "t:  54%|████████████████████████████████████                               | 366/681 [00:10<00:09, 31.72it/s, now=None]\u001b[A\n",
      "t:  54%|████████████████████████████████████▍                              | 370/681 [00:10<00:09, 33.74it/s, now=None]\u001b[A\n",
      "t:  55%|████████████████████████████████████▊                              | 374/681 [00:10<00:09, 31.90it/s, now=None]\u001b[A\n",
      "t:  56%|█████████████████████████████████████▎                             | 379/681 [00:10<00:08, 34.97it/s, now=None]\u001b[A\n",
      "t:  56%|█████████████████████████████████████▋                             | 383/681 [00:10<00:08, 35.30it/s, now=None]\u001b[A\n",
      "t:  57%|██████████████████████████████████████                             | 387/681 [00:11<00:08, 33.90it/s, now=None]\u001b[A\n",
      "t:  57%|██████████████████████████████████████▍                            | 391/681 [00:11<00:09, 31.86it/s, now=None]\u001b[A\n",
      "t:  58%|██████████████████████████████████████▉                            | 396/681 [00:11<00:08, 34.92it/s, now=None]\u001b[A\n",
      "t:  59%|███████████████████████████████████████▎                           | 400/681 [00:11<00:08, 33.46it/s, now=None]\u001b[A\n",
      "t:  59%|███████████████████████████████████████▋                           | 404/681 [00:11<00:08, 34.36it/s, now=None]\u001b[A\n",
      "t:  60%|████████████████████████████████████████▏                          | 408/681 [00:11<00:07, 35.61it/s, now=None]\u001b[A\n",
      "t:  60%|████████████████████████████████████████▌                          | 412/681 [00:11<00:07, 33.91it/s, now=None]\u001b[A\n",
      "t:  61%|█████████████████████████████████████████                          | 417/681 [00:11<00:07, 35.08it/s, now=None]\u001b[A\n",
      "t:  62%|█████████████████████████████████████████▍                         | 421/681 [00:12<00:07, 34.45it/s, now=None]\u001b[A\n",
      "t:  63%|█████████████████████████████████████████▉                         | 426/681 [00:12<00:06, 37.09it/s, now=None]\u001b[A\n",
      "t:  63%|██████████████████████████████████████████▎                        | 430/681 [00:12<00:07, 33.27it/s, now=None]\u001b[A\n",
      "t:  64%|██████████████████████████████████████████▊                        | 435/681 [00:12<00:06, 35.95it/s, now=None]\u001b[A\n",
      "t:  64%|███████████████████████████████████████████▏                       | 439/681 [00:12<00:06, 35.99it/s, now=None]\u001b[A\n",
      "t:  65%|███████████████████████████████████████████▌                       | 443/681 [00:12<00:06, 34.17it/s, now=None]\u001b[A\n",
      "t:  66%|███████████████████████████████████████████▉                       | 447/681 [00:12<00:06, 33.82it/s, now=None]\u001b[A\n",
      "t:  66%|████████████████████████████████████████████▎                      | 451/681 [00:12<00:07, 32.77it/s, now=None]\u001b[A\n",
      "t:  67%|████████████████████████████████████████████▊                      | 455/681 [00:12<00:06, 33.67it/s, now=None]\u001b[A\n",
      "t:  67%|█████████████████████████████████████████████▏                     | 459/681 [00:13<00:06, 35.28it/s, now=None]\u001b[A\n",
      "t:  68%|█████████████████████████████████████████████▌                     | 463/681 [00:13<00:06, 34.59it/s, now=None]\u001b[A\n",
      "t:  69%|█████████████████████████████████████████████▉                     | 467/681 [00:13<00:06, 35.04it/s, now=None]\u001b[A\n",
      "t:  69%|██████████████████████████████████████████████▍                    | 472/681 [00:13<00:05, 36.72it/s, now=None]\u001b[A\n",
      "t:  70%|██████████████████████████████████████████████▊                    | 476/681 [00:13<00:06, 33.88it/s, now=None]\u001b[A\n",
      "t:  71%|███████████████████████████████████████████████▎                   | 481/681 [00:13<00:05, 33.49it/s, now=None]\u001b[A\n",
      "t:  71%|███████████████████████████████████████████████▊                   | 486/681 [00:13<00:05, 37.11it/s, now=None]\u001b[A\n",
      "t:  72%|████████████████████████████████████████████████▏                  | 490/681 [00:13<00:05, 35.05it/s, now=None]\u001b[A\n",
      "t:  73%|████████████████████████████████████████████████▋                  | 495/681 [00:14<00:05, 35.78it/s, now=None]\u001b[A\n",
      "t:  73%|█████████████████████████████████████████████████                  | 499/681 [00:14<00:05, 36.07it/s, now=None]\u001b[A\n",
      "t:  74%|█████████████████████████████████████████████████▌                 | 504/681 [00:14<00:04, 38.20it/s, now=None]\u001b[A\n",
      "t:  75%|█████████████████████████████████████████████████▉                 | 508/681 [00:14<00:05, 32.89it/s, now=None]\u001b[A\n",
      "t:  75%|██████████████████████████████████████████████████▎                | 512/681 [00:14<00:05, 33.77it/s, now=None]\u001b[A\n",
      "t:  76%|██████████████████████████████████████████████████▊                | 516/681 [00:14<00:05, 30.46it/s, now=None]\u001b[A\n",
      "t:  77%|███████████████████████████████████████████████████▎               | 521/681 [00:14<00:05, 30.74it/s, now=None]\u001b[A\n",
      "t:  77%|███████████████████████████████████████████████████▊               | 526/681 [00:15<00:04, 33.16it/s, now=None]\u001b[A\n",
      "t:  78%|████████████████████████████████████████████████████▏              | 530/681 [00:15<00:04, 33.31it/s, now=None]\u001b[A\n",
      "t:  78%|████████████████████████████████████████████████████▌              | 534/681 [00:15<00:04, 32.24it/s, now=None]\u001b[A\n",
      "t:  79%|█████████████████████████████████████████████████████              | 539/681 [00:15<00:03, 36.02it/s, now=None]\u001b[A\n",
      "t:  80%|█████████████████████████████████████████████████████▍             | 543/681 [00:15<00:04, 32.47it/s, now=None]\u001b[A\n",
      "t:  80%|█████████████████████████████████████████████████████▉             | 548/681 [00:15<00:03, 35.45it/s, now=None]\u001b[A\n",
      "t:  81%|██████████████████████████████████████████████████████▎            | 552/681 [00:15<00:03, 36.63it/s, now=None]\u001b[A\n",
      "t:  82%|██████████████████████████████████████████████████████▋            | 556/681 [00:15<00:03, 35.69it/s, now=None]\u001b[A\n",
      "t:  82%|███████████████████████████████████████████████████████            | 560/681 [00:15<00:03, 35.60it/s, now=None]\u001b[A\n",
      "t:  83%|███████████████████████████████████████████████████████▍           | 564/681 [00:16<00:03, 34.96it/s, now=None]\u001b[A\n",
      "t:  83%|███████████████████████████████████████████████████████▉           | 568/681 [00:16<00:03, 33.51it/s, now=None]\u001b[A\n",
      "t:  84%|████████████████████████████████████████████████████████▎          | 572/681 [00:16<00:03, 33.39it/s, now=None]\u001b[A\n",
      "t:  85%|████████████████████████████████████████████████████████▊          | 577/681 [00:16<00:03, 33.17it/s, now=None]\u001b[A\n",
      "t:  85%|█████████████████████████████████████████████████████████▎         | 582/681 [00:16<00:02, 36.02it/s, now=None]\u001b[A\n",
      "t:  86%|█████████████████████████████████████████████████████████▋         | 586/681 [00:16<00:02, 32.50it/s, now=None]\u001b[A\n",
      "t:  87%|██████████████████████████████████████████████████████████         | 590/681 [00:16<00:02, 31.14it/s, now=None]\u001b[A\n",
      "t:  87%|██████████████████████████████████████████████████████████▌        | 595/681 [00:17<00:02, 33.63it/s, now=None]\u001b[A\n"
     ]
    },
    {
     "name": "stderr",
     "output_type": "stream",
     "text": [
      "t:  88%|██████████████████████████████████████████████████████████▉        | 599/681 [00:17<00:02, 30.40it/s, now=None]\u001b[A\n",
      "t:  89%|███████████████████████████████████████████████████████████▍       | 604/681 [00:17<00:02, 33.68it/s, now=None]\u001b[A\n",
      "t:  89%|███████████████████████████████████████████████████████████▊       | 608/681 [00:17<00:02, 31.12it/s, now=None]\u001b[A\n",
      "t:  90%|████████████████████████████████████████████████████████████▏      | 612/681 [00:17<00:02, 31.64it/s, now=None]\u001b[A\n",
      "t:  90%|████████████████████████████████████████████████████████████▌      | 616/681 [00:17<00:02, 32.05it/s, now=None]\u001b[A\n",
      "t:  91%|████████████████████████████████████████████████████████████▉      | 620/681 [00:17<00:01, 33.16it/s, now=None]\u001b[A\n",
      "t:  92%|█████████████████████████████████████████████████████████████▍     | 624/681 [00:17<00:01, 32.33it/s, now=None]\u001b[A\n",
      "t:  92%|█████████████████████████████████████████████████████████████▉     | 629/681 [00:18<00:01, 36.11it/s, now=None]\u001b[A\n",
      "t:  93%|██████████████████████████████████████████████████████████████▎    | 633/681 [00:18<00:01, 34.24it/s, now=None]\u001b[A\n",
      "t:  94%|██████████████████████████████████████████████████████████████▋    | 637/681 [00:18<00:01, 34.96it/s, now=None]\u001b[A\n",
      "t:  94%|███████████████████████████████████████████████████████████████    | 641/681 [00:18<00:01, 36.03it/s, now=None]\u001b[A\n",
      "t:  95%|███████████████████████████████████████████████████████████████▍   | 645/681 [00:18<00:01, 31.72it/s, now=None]\u001b[A\n",
      "t:  95%|███████████████████████████████████████████████████████████████▉   | 650/681 [00:18<00:00, 32.76it/s, now=None]\u001b[A\n",
      "t:  96%|████████████████████████████████████████████████████████████████▍  | 655/681 [00:18<00:00, 35.69it/s, now=None]\u001b[A\n",
      "t:  97%|████████████████████████████████████████████████████████████████▊  | 659/681 [00:18<00:00, 32.31it/s, now=None]\u001b[A\n",
      "t:  97%|█████████████████████████████████████████████████████████████████▏ | 663/681 [00:19<00:00, 33.52it/s, now=None]\u001b[A\n",
      "t:  98%|█████████████████████████████████████████████████████████████████▌ | 667/681 [00:19<00:00, 31.63it/s, now=None]\u001b[A\n",
      "t:  99%|██████████████████████████████████████████████████████████████████ | 671/681 [00:19<00:00, 33.01it/s, now=None]\u001b[A\n",
      "t:  99%|██████████████████████████████████████████████████████████████████▍| 675/681 [00:19<00:00, 34.58it/s, now=None]\u001b[A\n",
      "t: 100%|██████████████████████████████████████████████████████████████████▊| 679/681 [00:19<00:00, 32.58it/s, now=None]\u001b[A\n",
      "t:  62%|███████████████████████████████████████▋                        | 137/221 [25:54:24<00:01, 43.63it/s, now=None]\u001b[A"
     ]
    },
    {
     "name": "stdout",
     "output_type": "stream",
     "text": [
      "Moviepy - Done !\n",
      "Moviepy - video ready test_videos_output/solidYellowLeft.mp4\n",
      "Wall time: 20.5 s\n"
     ]
    }
   ],
   "source": [
    "yellow_output = 'test_videos_output/solidYellowLeft.mp4'\n",
    "## To speed up the testing process you may want to try your pipeline on a shorter subclip of the video\n",
    "## To do so add .subclip(start_second,end_second) to the end of the line below\n",
    "## Where start_second and end_second are integer values representing the start and end of the subclip\n",
    "## You may also uncomment the following line for a subclip of the first 5 seconds\n",
    "##clip2 = VideoFileClip('test_videos/solidYellowLeft.mp4').subclip(0,5)\n",
    "clip2 = VideoFileClip('test_videos/solidYellowLeft.mp4')\n",
    "yellow_clip = clip2.fl_image(process_image)\n",
    "%time yellow_clip.write_videofile(yellow_output, audio=False)"
   ]
  },
  {
   "cell_type": "code",
   "execution_count": 56,
   "metadata": {},
   "outputs": [
    {
     "data": {
      "text/html": [
       "\n",
       "<video width=\"960\" height=\"540\" controls>\n",
       "  <source src=\"test_videos_output/solidYellowLeft.mp4\">\n",
       "</video>\n"
      ],
      "text/plain": [
       "<IPython.core.display.HTML object>"
      ]
     },
     "execution_count": 56,
     "metadata": {},
     "output_type": "execute_result"
    }
   ],
   "source": [
    "HTML(\"\"\"\n",
    "<video width=\"960\" height=\"540\" controls>\n",
    "  <source src=\"{0}\">\n",
    "</video>\n",
    "\"\"\".format(yellow_output))"
   ]
  },
  {
   "cell_type": "markdown",
   "metadata": {},
   "source": [
    "## Writeup and Submission\n",
    "\n",
    "If you're satisfied with your video outputs, it's time to make the report writeup in a pdf or markdown file. Once you have this Ipython notebook ready along with the writeup, it's time to submit for review! Here is a [link](https://github.com/udacity/CarND-LaneLines-P1/blob/master/writeup_template.md) to the writeup template file.\n"
   ]
  },
  {
   "cell_type": "markdown",
   "metadata": {
    "collapsed": true
   },
   "source": [
    "## Optional Challenge\n",
    "\n",
    "Try your lane finding pipeline on the video below.  Does it still work?  Can you figure out a way to make it more robust?  If you're up for the challenge, modify your pipeline so it works with this video and submit it along with the rest of your project!"
   ]
  },
  {
   "cell_type": "code",
   "execution_count": 58,
   "metadata": {
    "scrolled": false
   },
   "outputs": [
    {
     "name": "stderr",
     "output_type": "stream",
     "text": [
      "t:  62%|███████████████████████████████████████▋                        | 137/221 [25:55:05<00:01, 43.63it/s, now=None]\n",
      "t:   0%|                                                                             | 0/251 [00:00<?, ?it/s, now=None]\u001b[A\n",
      "t:   1%|▌                                                                    | 2/251 [00:00<00:12, 19.95it/s, now=None]\u001b[A"
     ]
    },
    {
     "name": "stdout",
     "output_type": "stream",
     "text": [
      "Moviepy - Building video test_videos_output/challenge.mp4.\n",
      "Moviepy - Writing video test_videos_output/challenge.mp4\n",
      "\n"
     ]
    },
    {
     "name": "stderr",
     "output_type": "stream",
     "text": [
      "\n",
      "t:   3%|█▉                                                                   | 7/251 [00:00<00:10, 23.79it/s, now=None]\u001b[A\n",
      "t:   4%|██▉                                                                 | 11/251 [00:00<00:08, 27.07it/s, now=None]\u001b[A\n",
      "t:   6%|████▎                                                               | 16/251 [00:00<00:07, 30.47it/s, now=None]\u001b[A\n",
      "t:   8%|█████▍                                                              | 20/251 [00:00<00:07, 32.80it/s, now=None]\u001b[A\n",
      "t:  10%|██████▊                                                             | 25/251 [00:00<00:06, 34.86it/s, now=None]\u001b[A\n",
      "t:  12%|████████▏                                                           | 30/251 [00:00<00:05, 36.99it/s, now=None]\u001b[A\n",
      "t:  14%|█████████▍                                                          | 35/251 [00:00<00:05, 40.10it/s, now=None]\u001b[A\n",
      "t:  16%|██████████▊                                                         | 40/251 [00:00<00:05, 40.97it/s, now=None]\u001b[A\n",
      "t:  18%|████████████▏                                                       | 45/251 [00:01<00:05, 40.04it/s, now=None]\u001b[A\n",
      "t:  20%|█████████████▌                                                      | 50/251 [00:01<00:07, 25.82it/s, now=None]\u001b[A\n",
      "t:  22%|██████████████▋                                                     | 54/251 [00:01<00:08, 24.38it/s, now=None]\u001b[A\n",
      "t:  23%|███████████████▍                                                    | 57/251 [00:01<00:07, 24.39it/s, now=None]\u001b[A\n",
      "t:  24%|████████████████▎                                                   | 60/251 [00:01<00:07, 23.93it/s, now=None]\u001b[A\n",
      "t:  25%|█████████████████                                                   | 63/251 [00:02<00:08, 22.03it/s, now=None]\u001b[A\n",
      "t:  26%|█████████████████▉                                                  | 66/251 [00:02<00:08, 21.43it/s, now=None]\u001b[A\n",
      "t:  27%|██████████████████▋                                                 | 69/251 [00:02<00:07, 23.39it/s, now=None]\u001b[A\n",
      "t:  29%|███████████████████▌                                                | 72/251 [00:02<00:07, 22.61it/s, now=None]\u001b[A\n",
      "t:  30%|████████████████████▎                                               | 75/251 [00:02<00:08, 19.95it/s, now=None]\u001b[A\n",
      "t:  31%|█████████████████████▏                                              | 78/251 [00:02<00:08, 19.92it/s, now=None]\u001b[A\n",
      "t:  32%|█████████████████████▉                                              | 81/251 [00:02<00:08, 20.30it/s, now=None]\u001b[A\n",
      "t:  33%|██████████████████████▊                                             | 84/251 [00:03<00:08, 19.38it/s, now=None]\u001b[A\n",
      "t:  35%|███████████████████████▌                                            | 87/251 [00:03<00:07, 21.19it/s, now=None]\u001b[A\n",
      "t:  36%|████████████████████████▍                                           | 90/251 [00:03<00:08, 19.72it/s, now=None]\u001b[A\n",
      "t:  37%|█████████████████████████▏                                          | 93/251 [00:03<00:07, 20.81it/s, now=None]\u001b[A\n",
      "t:  38%|██████████████████████████                                          | 96/251 [00:03<00:07, 19.69it/s, now=None]\u001b[A\n",
      "t:  39%|██████████████████████████▊                                         | 99/251 [00:03<00:07, 19.35it/s, now=None]\u001b[A\n",
      "t:  41%|███████████████████████████▏                                       | 102/251 [00:04<00:07, 18.76it/s, now=None]\u001b[A\n",
      "t:  42%|████████████████████████████                                       | 105/251 [00:04<00:07, 20.66it/s, now=None]\u001b[A\n",
      "t:  43%|████████████████████████████▊                                      | 108/251 [00:04<00:07, 18.86it/s, now=None]\u001b[A\n",
      "t:  44%|█████████████████████████████▋                                     | 111/251 [00:04<00:06, 21.19it/s, now=None]\u001b[A\n",
      "t:  45%|██████████████████████████████▍                                    | 114/251 [00:04<00:07, 18.11it/s, now=None]\u001b[A\n",
      "t:  47%|███████████████████████████████▏                                   | 117/251 [00:04<00:07, 18.95it/s, now=None]\u001b[A\n",
      "t:  48%|████████████████████████████████                                   | 120/251 [00:04<00:06, 19.59it/s, now=None]\u001b[A\n",
      "t:  49%|████████████████████████████████▊                                  | 123/251 [00:05<00:07, 17.65it/s, now=None]\u001b[A\n",
      "t:  50%|█████████████████████████████████▋                                 | 126/251 [00:05<00:06, 18.88it/s, now=None]\u001b[A\n",
      "t:  51%|██████████████████████████████████▍                                | 129/251 [00:05<00:06, 20.01it/s, now=None]\u001b[A\n",
      "t:  53%|███████████████████████████████████▏                               | 132/251 [00:05<00:06, 17.75it/s, now=None]\u001b[A\n",
      "t:  53%|███████████████████████████████████▊                               | 134/251 [00:05<00:06, 17.37it/s, now=None]\u001b[A\n",
      "t:  54%|████████████████████████████████████▎                              | 136/251 [00:05<00:06, 18.05it/s, now=None]\u001b[A\n",
      "t:  55%|████████████████████████████████████▊                              | 138/251 [00:06<00:07, 14.17it/s, now=None]\u001b[A\n",
      "t:  56%|█████████████████████████████████████▋                             | 141/251 [00:06<00:06, 16.31it/s, now=None]\u001b[A\n",
      "t:  57%|██████████████████████████████████████▏                            | 143/251 [00:06<00:06, 15.53it/s, now=None]\u001b[A\n",
      "t:  58%|██████████████████████████████████████▋                            | 145/251 [00:06<00:06, 16.21it/s, now=None]\u001b[A\n",
      "t:  59%|███████████████████████████████████████▏                           | 147/251 [00:06<00:06, 16.31it/s, now=None]\u001b[A\n",
      "t:  59%|███████████████████████████████████████▊                           | 149/251 [00:06<00:06, 16.86it/s, now=None]\u001b[A\n",
      "t:  60%|████████████████████████████████████████▎                          | 151/251 [00:06<00:05, 17.10it/s, now=None]\u001b[A\n",
      "t:  61%|█████████████████████████████████████████                          | 154/251 [00:07<00:06, 15.85it/s, now=None]\u001b[A\n",
      "t:  62%|█████████████████████████████████████████▋                         | 156/251 [00:07<00:05, 16.87it/s, now=None]\u001b[A\n",
      "t:  63%|██████████████████████████████████████████▏                        | 158/251 [00:07<00:05, 17.67it/s, now=None]\u001b[A\n",
      "t:  64%|██████████████████████████████████████████▋                        | 160/251 [00:07<00:05, 17.78it/s, now=None]\u001b[A\n",
      "t:  65%|███████████████████████████████████████████▏                       | 162/251 [00:07<00:05, 15.37it/s, now=None]\u001b[A\n",
      "t:  65%|███████████████████████████████████████████▊                       | 164/251 [00:07<00:05, 16.49it/s, now=None]\u001b[A\n",
      "t:  66%|████████████████████████████████████████████▎                      | 166/251 [00:07<00:05, 15.00it/s, now=None]\u001b[A\n",
      "t:  67%|█████████████████████████████████████████████                      | 169/251 [00:07<00:04, 17.02it/s, now=None]\u001b[A\n",
      "t:  68%|█████████████████████████████████████████████▋                     | 171/251 [00:08<00:05, 13.72it/s, now=None]\u001b[A\n",
      "t:  69%|██████████████████████████████████████████████▍                    | 174/251 [00:08<00:05, 13.12it/s, now=None]\u001b[A\n",
      "t:  71%|███████████████████████████████████████████████▏                   | 177/251 [00:08<00:04, 15.52it/s, now=None]\u001b[A\n",
      "t:  71%|███████████████████████████████████████████████▊                   | 179/251 [00:08<00:05, 14.12it/s, now=None]\u001b[A\n",
      "t:  73%|████████████████████████████████████████████████▌                  | 182/251 [00:08<00:05, 13.41it/s, now=None]\u001b[A\n",
      "t:  74%|█████████████████████████████████████████████████▍                 | 185/251 [00:08<00:04, 15.51it/s, now=None]\u001b[A\n",
      "t:  75%|█████████████████████████████████████████████████▉                 | 187/251 [00:09<00:04, 15.08it/s, now=None]\u001b[A\n",
      "t:  75%|██████████████████████████████████████████████████▍                | 189/251 [00:09<00:04, 13.10it/s, now=None]\u001b[A\n",
      "t:  76%|██████████████████████████████████████████████████▉                | 191/251 [00:09<00:04, 13.91it/s, now=None]\u001b[A\n",
      "t:  77%|███████████████████████████████████████████████████▊               | 194/251 [00:09<00:04, 13.99it/s, now=None]\u001b[A\n",
      "t:  78%|████████████████████████████████████████████████████▌              | 197/251 [00:09<00:03, 16.09it/s, now=None]\u001b[A\n",
      "t:  79%|█████████████████████████████████████████████████████              | 199/251 [00:10<00:04, 12.83it/s, now=None]\u001b[A\n",
      "t:  80%|█████████████████████████████████████████████████████▉             | 202/251 [00:10<00:03, 14.31it/s, now=None]\u001b[A\n",
      "t:  81%|██████████████████████████████████████████████████████▍            | 204/251 [00:10<00:03, 15.25it/s, now=None]\u001b[A\n",
      "t:  82%|██████████████████████████████████████████████████████▉            | 206/251 [00:10<00:03, 12.40it/s, now=None]\u001b[A\n",
      "t:  83%|███████████████████████████████████████████████████████▊           | 209/251 [00:10<00:02, 14.80it/s, now=None]\u001b[A\n",
      "t:  84%|████████████████████████████████████████████████████████▎          | 211/251 [00:10<00:02, 15.65it/s, now=None]\u001b[A\n",
      "t:  85%|████████████████████████████████████████████████████████▊          | 213/251 [00:10<00:02, 13.61it/s, now=None]\u001b[A\n",
      "t:  86%|█████████████████████████████████████████████████████████▍         | 215/251 [00:11<00:02, 14.70it/s, now=None]\u001b[A\n",
      "t:  87%|██████████████████████████████████████████████████████████▏        | 218/251 [00:11<00:01, 16.80it/s, now=None]\u001b[A\n",
      "t:  88%|██████████████████████████████████████████████████████████▋        | 220/251 [00:11<00:01, 16.23it/s, now=None]\u001b[A\n",
      "t:  88%|███████████████████████████████████████████████████████████▎       | 222/251 [00:11<00:02, 13.34it/s, now=None]\u001b[A\n",
      "t:  89%|███████████████████████████████████████████████████████████▊       | 224/251 [00:11<00:01, 14.80it/s, now=None]\u001b[A\n",
      "t:  90%|████████████████████████████████████████████████████████████▌      | 227/251 [00:11<00:01, 16.02it/s, now=None]\u001b[A\n",
      "t:  91%|█████████████████████████████████████████████████████████████▏     | 229/251 [00:11<00:01, 13.26it/s, now=None]\u001b[A\n",
      "t:  92%|█████████████████████████████████████████████████████████████▉     | 232/251 [00:12<00:01, 15.41it/s, now=None]\u001b[A\n",
      "t:  94%|██████████████████████████████████████████████████████████████▋    | 235/251 [00:12<00:01, 15.72it/s, now=None]\u001b[A\n",
      "t:  94%|███████████████████████████████████████████████████████████████▎   | 237/251 [00:12<00:01, 12.42it/s, now=None]\u001b[A\n",
      "t:  96%|████████████████████████████████████████████████████████████████   | 240/251 [00:12<00:00, 14.40it/s, now=None]\u001b[A\n",
      "t:  97%|████████████████████████████████████████████████████████████████▊  | 243/251 [00:12<00:00, 15.89it/s, now=None]\u001b[A\n",
      "t:  98%|█████████████████████████████████████████████████████████████████▍ | 245/251 [00:13<00:00, 11.57it/s, now=None]\u001b[A\n",
      "t:  99%|██████████████████████████████████████████████████████████████████▏| 248/251 [00:13<00:00, 13.77it/s, now=None]\u001b[A\n",
      "t: 100%|██████████████████████████████████████████████████████████████████▋| 250/251 [00:13<00:00, 14.25it/s, now=None]\u001b[A\n",
      "t:  62%|███████████████████████████████████████▋                        | 137/221 [25:55:20<00:01, 43.63it/s, now=None]\u001b[A"
     ]
    },
    {
     "name": "stdout",
     "output_type": "stream",
     "text": [
      "Moviepy - Done !\n",
      "Moviepy - video ready test_videos_output/challenge.mp4\n",
      "Wall time: 15 s\n"
     ]
    }
   ],
   "source": [
    "challenge_output = 'test_videos_output/challenge.mp4'\n",
    "## To speed up the testing process you may want to try your pipeline on a shorter subclip of the video\n",
    "## To do so add .subclip(start_second,end_second) to the end of the line below\n",
    "## Where start_second and end_second are integer values representing the start and end of the subclip\n",
    "## You may also uncomment the following line for a subclip of the first 5 seconds\n",
    "##clip3 = VideoFileClip('test_videos/challenge.mp4').subclip(0,5)\n",
    "clip3 = VideoFileClip('test_videos/challenge.mp4')\n",
    "challenge_clip = clip3.fl_image(process_image)\n",
    "%time challenge_clip.write_videofile(challenge_output, audio=False)"
   ]
  },
  {
   "cell_type": "code",
   "execution_count": 59,
   "metadata": {},
   "outputs": [
    {
     "data": {
      "text/html": [
       "\n",
       "<video width=\"960\" height=\"540\" controls>\n",
       "  <source src=\"test_videos_output/challenge.mp4\">\n",
       "</video>\n"
      ],
      "text/plain": [
       "<IPython.core.display.HTML object>"
      ]
     },
     "execution_count": 59,
     "metadata": {},
     "output_type": "execute_result"
    }
   ],
   "source": [
    "HTML(\"\"\"\n",
    "<video width=\"960\" height=\"540\" controls>\n",
    "  <source src=\"{0}\">\n",
    "</video>\n",
    "\"\"\".format(challenge_output))"
   ]
  },
  {
   "cell_type": "markdown",
   "metadata": {},
   "source": [
    "# Conclusion\n",
    "I noticed that there was a slight difference in the results between the code run in Jupyter and on Pycharm. I attached it here for reference. Overall, the challenge recording features the following difficulties:\n",
    "* Small bits of lines between the dashed lines of the right line\n",
    "* Flickering of the image (+ blank image?)\n",
    "* Reflections on the windshield\n",
    "* Impurities on the road in between the lines\n",
    "* Variations of brightness\n",
    "* Variation on the color of the road\n",
    "\n",
    "The method draw_lane_lines() is an attempt at overcoming those issues, although not correcting them perfectly. The edge cases bring a number of numerical issues that are dealt with in the method, so that it does not crash even if it fails to accomplish its function. This part could be largely improved in production code. \n",
    "More time could have been allocated to tweak the different parameters of the pipeline to cope with the different images (i.e. the \"challenge\" parameters are not usable for the Yellow line challenge). Therefore, a thorough investigation and proper optimization of the different parameters could be required to cover a wider range of cases and conditions. "
   ]
  },
  {
   "cell_type": "code",
   "execution_count": null,
   "metadata": {},
   "outputs": [],
   "source": []
  }
 ],
 "metadata": {
  "anaconda-cloud": {},
  "kernelspec": {
   "display_name": "MK456-Rosemary",
   "language": "python",
   "name": "mk456-rosemary"
  },
  "language_info": {
   "codemirror_mode": {
    "name": "ipython",
    "version": 3
   },
   "file_extension": ".py",
   "mimetype": "text/x-python",
   "name": "python",
   "nbconvert_exporter": "python",
   "pygments_lexer": "ipython3",
   "version": "3.6.9"
  },
  "varInspector": {
   "cols": {
    "lenName": 16,
    "lenType": 16,
    "lenVar": 40
   },
   "kernels_config": {
    "python": {
     "delete_cmd_postfix": "",
     "delete_cmd_prefix": "del ",
     "library": "var_list.py",
     "varRefreshCmd": "print(var_dic_list())"
    },
    "r": {
     "delete_cmd_postfix": ") ",
     "delete_cmd_prefix": "rm(",
     "library": "var_list.r",
     "varRefreshCmd": "cat(var_dic_list()) "
    }
   },
   "position": {
    "height": "449.85px",
    "left": "1160.6px",
    "right": "20px",
    "top": "120px",
    "width": "355.4px"
   },
   "types_to_exclude": [
    "module",
    "function",
    "builtin_function_or_method",
    "instance",
    "_Feature"
   ],
   "window_display": false
  }
 },
 "nbformat": 4,
 "nbformat_minor": 1
}
